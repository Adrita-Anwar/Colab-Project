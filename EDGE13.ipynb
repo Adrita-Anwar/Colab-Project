{
  "nbformat": 4,
  "nbformat_minor": 0,
  "metadata": {
    "colab": {
      "provenance": [],
      "authorship_tag": "ABX9TyObEnNK25gZlqLdrxaSRZ3a",
      "include_colab_link": true
    },
    "kernelspec": {
      "name": "python3",
      "display_name": "Python 3"
    },
    "language_info": {
      "name": "python"
    }
  },
  "cells": [
    {
      "cell_type": "markdown",
      "metadata": {
        "id": "view-in-github",
        "colab_type": "text"
      },
      "source": [
        "<a href=\"https://colab.research.google.com/github/Adrita-Anwar/Colab-Project/blob/main/EDGE13.ipynb\" target=\"_parent\"><img src=\"https://colab.research.google.com/assets/colab-badge.svg\" alt=\"Open In Colab\"/></a>"
      ]
    },
    {
      "cell_type": "code",
      "execution_count": null,
      "metadata": {
        "colab": {
          "base_uri": "https://localhost:8080/"
        },
        "id": "s9KA6Ye8AmUe",
        "outputId": "2aee0d6f-c425-4a88-e338-bf8b24649bfc"
      },
      "outputs": [
        {
          "output_type": "stream",
          "name": "stdout",
          "text": [
            "Black\n",
            "Car Started\n",
            "None\n",
            "Car Stoped\n",
            "None\n",
            "Toyota Premio\n"
          ]
        }
      ],
      "source": [
        "class Car:\n",
        "    color = \"Black\"\n",
        "    @staticmethod\n",
        "    def start():\n",
        "        print(\"Car Started\")\n",
        "\n",
        "    @staticmethod\n",
        "    def stop():\n",
        "        print(\"Car Stoped\")\n",
        "\n",
        "class RRCar(Car):\n",
        "    def __init__(self, name):\n",
        "        self.name = name\n",
        "\n",
        "\n",
        "car1 = RRCar(\"Rolls Royce\")\n",
        "car2 = RRCar(\"Toyota Premio\")\n",
        "car3:RRCar = RRCar(\"BMW\")\n",
        "print(car2.color)\n",
        "print(car2.start())\n",
        "print(car2.stop())\n",
        "print(car2.name)"
      ]
    },
    {
      "cell_type": "code",
      "source": [
        "from datetime import datetime\n",
        "\n",
        "class Age:\n",
        "    def __init__(self, birth_date):\n",
        "        self.day= day\n",
        "        self.month = month\n",
        "        self.year = year\n",
        "    def calculateAge(self,birthdate):\n",
        "        today=datetime.today()\n",
        "        age=today.year-birthdate.year\n",
        "  if (today.month,today,day) < (birthdate.month,birthdate.day):\n",
        "     age-=1\n",
        "  return age\n",
        "\n",
        "birthdate_str= input(\"Enter your birthdate(YYYY-MM-DD): \")\n",
        "birthdate=datetime.strptime"
      ],
      "metadata": {
        "id": "kYWTmvHDGaEL"
      },
      "execution_count": null,
      "outputs": []
    },
    {
      "cell_type": "code",
      "source": [
        "class A:\n",
        "  varA=\"Welcome to class A\"\n",
        "class B:\n",
        "  varB=\"Welcome to class B\"\n",
        "class C(A,B):\n",
        "  varC=\"Welcome to class C\"\n"
      ],
      "metadata": {
        "id": "Z19AnO9UM144"
      },
      "execution_count": null,
      "outputs": []
    },
    {
      "cell_type": "code",
      "source": [
        "class Car:\n",
        "  @staticmethod\n",
        "  def start():\n",
        "     print(\"Car Started\")\n",
        "  @staticmethod\n",
        "  def stop():\n",
        "     print(\"Car Stopped\")\n",
        "class ToyotaCar(Car):\n",
        "  def __init__(self,brand):\n",
        "    self.brand=brand\n",
        "class Fortuner(ToyotaCar):\n",
        "  def __init__(self,type):\n",
        "    self.type=type\n",
        "car1=Fortuner(\"Diesel\")\n",
        "car1.start()\n",
        "car1.stop()\n",
        "\n",
        "print(car1.type)"
      ],
      "metadata": {
        "colab": {
          "base_uri": "https://localhost:8080/"
        },
        "id": "MU9oOt__OMVj",
        "outputId": "99eb9442-10c1-4676-910a-1c80229fe800"
      },
      "execution_count": null,
      "outputs": [
        {
          "output_type": "stream",
          "name": "stdout",
          "text": [
            "Car Started\n",
            "Car Stopped\n",
            "Diesel\n"
          ]
        }
      ]
    },
    {
      "cell_type": "code",
      "source": [
        "class shape:\n",
        "  def __init__(self,color):\n",
        "    self.color=color\n",
        "  def area(self):\n",
        "    pass\n",
        "class Circle(shape): # Changed Cirle to Circle\n",
        "  def __init__(self,color,radius):\n",
        "    super().__init__(color)\n",
        "    self.radius=radius\n",
        "  def area(self):\n",
        "    return 3.14*self.radius**2\n",
        "class Square(shape):\n",
        "  def __init__(self,color,side_length):\n",
        "    super().__init__(color)\n",
        "    self.side=side_length\n",
        "  def area(self):\n",
        "    return self.side**2\n",
        "\n",
        "circle=Circle(\"Green\",5) # Changed Cirle to Circle\n",
        "square=Square(\"Blue\",4)\n",
        "\n",
        "print(circle.area())\n",
        "print(square.area())"
      ],
      "metadata": {
        "colab": {
          "base_uri": "https://localhost:8080/"
        },
        "id": "xR0fmEI1P7hd",
        "outputId": "6682f765-71df-4ccc-a5b4-759cc337c73b"
      },
      "execution_count": null,
      "outputs": [
        {
          "output_type": "stream",
          "name": "stdout",
          "text": [
            "78.5\n",
            "16\n"
          ]
        }
      ]
    },
    {
      "cell_type": "code",
      "source": [
        "class Student:\n",
        "  def __init__(self,physics,chemistry,biology):\n",
        "    self.physics=physics\n",
        "    self.chem=chemistry\n",
        "    self.bio=biology\n",
        "  @property\n",
        "  def calcPercentage(self):\n",
        "    return str((self.physics+self.chem+self.bio)/3)+ \"%\"\n",
        "stu1=Student(98,88,78)\n",
        "print(stu1.calcPercentage)\n",
        "stu1.phy=66\n",
        "print(stu1.phy)"
      ],
      "metadata": {
        "id": "b80dV8JySzkV",
        "colab": {
          "base_uri": "https://localhost:8080/"
        },
        "outputId": "ac502b56-5218-4439-ebfc-bf32947e6fd4"
      },
      "execution_count": null,
      "outputs": [
        {
          "output_type": "stream",
          "name": "stdout",
          "text": [
            "88.0%\n",
            "66\n"
          ]
        }
      ]
    },
    {
      "cell_type": "code",
      "source": [
        "print([1,2,3]+[4,5,6])"
      ],
      "metadata": {
        "colab": {
          "base_uri": "https://localhost:8080/"
        },
        "id": "rUpRojPWZdxv",
        "outputId": "8b975a81-b298-4489-b6bc-929a45165b5f"
      },
      "execution_count": null,
      "outputs": [
        {
          "output_type": "stream",
          "name": "stdout",
          "text": [
            "[1, 2, 3, 4, 5, 6]\n"
          ]
        }
      ]
    },
    {
      "cell_type": "code",
      "source": [
        "from types import new_class\n",
        "class Complex:\n",
        "  def __init__(self,real,img):\n",
        "    self.real=real\n",
        "    self.img=img\n",
        "  def showNumber(self):\n",
        "    print(self.real,\"i+\",self.img,\"j\")\n",
        "\n",
        "  def __add__(self,num2):\n",
        "    newReal=self.real+num2.real\n",
        "    newimg=self.img+num2.img\n",
        "    return Complex(newReal,newimg)\n",
        "\n",
        "num1=Complex(1,4)\n",
        "num1.showNumber()\n",
        "num2=Complex(3,5)\n",
        "num2.showNumber()\n",
        "\n",
        "num3=num1+num2\n",
        "num3.showNumber()"
      ],
      "metadata": {
        "colab": {
          "base_uri": "https://localhost:8080/"
        },
        "id": "VfpwBiqPa7aX",
        "outputId": "93a589a1-81c9-4f1e-aea0-433a046be103"
      },
      "execution_count": null,
      "outputs": [
        {
          "output_type": "stream",
          "name": "stdout",
          "text": [
            "1 i+ 4 j\n",
            "3 i+ 5 j\n",
            "4 i+ 9 j\n"
          ]
        }
      ]
    },
    {
      "cell_type": "code",
      "source": [
        "print(dir(int))"
      ],
      "metadata": {
        "colab": {
          "base_uri": "https://localhost:8080/"
        },
        "id": "cuurd8Y2cDCn",
        "outputId": "4a12e873-83c3-4d61-d20d-e5d14c2bb6c5"
      },
      "execution_count": null,
      "outputs": [
        {
          "output_type": "stream",
          "name": "stdout",
          "text": [
            "['__abs__', '__add__', '__and__', '__bool__', '__ceil__', '__class__', '__delattr__', '__dir__', '__divmod__', '__doc__', '__eq__', '__float__', '__floor__', '__floordiv__', '__format__', '__ge__', '__getattribute__', '__getnewargs__', '__gt__', '__hash__', '__index__', '__init__', '__init_subclass__', '__int__', '__invert__', '__le__', '__lshift__', '__lt__', '__mod__', '__mul__', '__ne__', '__neg__', '__new__', '__or__', '__pos__', '__pow__', '__radd__', '__rand__', '__rdivmod__', '__reduce__', '__reduce_ex__', '__repr__', '__rfloordiv__', '__rlshift__', '__rmod__', '__rmul__', '__ror__', '__round__', '__rpow__', '__rrshift__', '__rshift__', '__rsub__', '__rtruediv__', '__rxor__', '__setattr__', '__sizeof__', '__str__', '__sub__', '__subclasshook__', '__truediv__', '__trunc__', '__xor__', 'as_integer_ratio', 'bit_count', 'bit_length', 'conjugate', 'denominator', 'from_bytes', 'imag', 'numerator', 'real', 'to_bytes']\n"
          ]
        }
      ]
    }
  ]
}